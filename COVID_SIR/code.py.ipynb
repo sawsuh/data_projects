{
 "cells": [
  {
   "cell_type": "markdown",
   "id": "910af954",
   "metadata": {},
   "source": [
    "# TODO\n",
    "\n",
    "1. Fit (RNN? big data time series model) using socioeconomic variables per country\n",
    "1. Look into running simulations (e.g. 3b1b etc.)\n",
    "1. Consider using a branching process model\n",
    "    1. Continuous time\n",
    "    1. Discrete time\n",
    "\n",
    "# DONE\n",
    "\n",
    "1. Research reinfection rates (is it worth using a model without reinfection?)\n",
    "\n",
    "    Some studies suggest prior infection is 80% effective, so maybe it is worth using a model which removes people after infection\n",
    "    \n",
    "1. Fit using alternative cost function and to a grid of initial coords\n",
    "\n",
    "    Improved rigour and reduced error due to initial data estimates\n",
    "    \n",
    "1. Figure out what data sources are available for Australia and what data they have\n",
    "    1. Consider using a different country\n",
    "        Can use data for all countries, using socioeconomic variables as inputs\n",
    "    1. Consider using LGA/post code level data for some sort of varied model\n",
    "        Data is available in Australia, but also is harder to deal with"
   ]
  },
  {
   "cell_type": "code",
   "execution_count": 4,
   "id": "dc9bed3d",
   "metadata": {},
   "outputs": [],
   "source": [
    "import numpy as np\n",
    "import matplotlib.pyplot as plt\n",
    "from scipy.integrate import odeint\n",
    "from scipy.optimize import minimize\n",
    "from math import floor\n",
    "import ode\n",
    "import pandas as pd\n",
    "import seaborn as sns"
   ]
  },
  {
   "cell_type": "markdown",
   "id": "228786a8",
   "metadata": {},
   "source": [
    "# Model 1 (SIS model to Aus data with vaccine proportion)"
   ]
  },
  {
   "cell_type": "markdown",
   "id": "b916b14e",
   "metadata": {},
   "source": [
    "## Set up input data"
   ]
  },
  {
   "cell_type": "markdown",
   "id": "cbb81f64",
   "metadata": {},
   "source": [
    "### Read SI data"
   ]
  },
  {
   "cell_type": "code",
   "execution_count": 2,
   "id": "cf0b6899",
   "metadata": {},
   "outputs": [
    {
     "name": "stdout",
     "output_type": "stream",
     "text": [
      "Confirmed\n",
      "Index(['1/22/20', '1/23/20', '1/24/20', '1/25/20', '1/26/20', '1/27/20',\n",
      "       '1/28/20', '1/29/20', '1/30/20', '1/31/20',\n",
      "       ...\n",
      "       '12/23/21', '12/24/21', '12/25/21', '12/26/21', '12/27/21', '12/28/21',\n",
      "       '12/29/21', '12/30/21', '12/31/21', '1/1/22'],\n",
      "      dtype='object', length=711)\n",
      "Index(['Province/State', 'Country/Region', 'Lat', 'Long'], dtype='object')\n",
      "\n",
      "Recovered\n",
      "Index(['1/22/20', '1/23/20', '1/24/20', '1/25/20', '1/26/20', '1/27/20',\n",
      "       '1/28/20', '1/29/20', '1/30/20', '1/31/20',\n",
      "       ...\n",
      "       '12/23/21', '12/24/21', '12/25/21', '12/26/21', '12/27/21', '12/28/21',\n",
      "       '12/29/21', '12/30/21', '12/31/21', '1/1/22'],\n",
      "      dtype='object', length=711)\n",
      "Index(['Province/State', 'Country/Region', 'Lat', 'Long'], dtype='object')\n",
      "\n",
      "Dead\n",
      "Index(['1/22/20', '1/23/20', '1/24/20', '1/25/20', '1/26/20', '1/27/20',\n",
      "       '1/28/20', '1/29/20', '1/30/20', '1/31/20',\n",
      "       ...\n",
      "       '12/23/21', '12/24/21', '12/25/21', '12/26/21', '12/27/21', '12/28/21',\n",
      "       '12/29/21', '12/30/21', '12/31/21', '1/1/22'],\n",
      "      dtype='object', length=711)\n",
      "Index(['Province/State', 'Country/Region', 'Lat', 'Long'], dtype='object')\n",
      "\n"
     ]
    },
    {
     "data": {
      "text/plain": [
       "<AxesSubplot:xlabel='Date'>"
      ]
     },
     "execution_count": 2,
     "metadata": {},
     "output_type": "execute_result"
    },
    {
     "data": {
      "image/png": "[encoded data removed]",
      "text/plain": [
       "<Figure size 432x288 with 1 Axes>"
      ]
     },
     "metadata": {
      "needs_background": "light"
     },
     "output_type": "display_data"
    }
   ],
   "source": [
    "si_df = None\n",
    "for col in ['Confirmed', 'Recovered', 'Dead']:\n",
    "    \n",
    "    # Read data and filter for Australia\n",
    "    sidf = pd.read_csv(f'data/{col}.csv') \n",
    "    sidf = sidf[sidf['Country/Region'] == 'Australia']\n",
    "    \n",
    "    # Pivot dates\n",
    "    print(col)\n",
    "    print(sidf.columns[4:]) \n",
    "    print(sidf.columns[:4])\n",
    "    id_cols = sidf.columns[:4]\n",
    "    print()\n",
    "\n",
    "    sidf = sidf.melt(id_vars = id_cols, var_name = 'Date', value_name = col)\n",
    "    sidf = sidf[['Province/State', 'Date', col]] \n",
    "    \n",
    "    # Aggregate to national level and set date index\n",
    "    sidf = sidf.groupby('Date')[col].sum().reset_index() \n",
    "    sidf['Date'] = pd.to_datetime(sidf['Date'], format='%m/%d/%y')\n",
    "    sidf = sidf.sort_values('Date').set_index('Date')\n",
    "    \n",
    "    # Add to output\n",
    "    if si_df is None:\n",
    "        si_df = sidf\n",
    "    else:\n",
    "        si_df = si_df.join(sidf)\n",
    "    \n",
    "# Check output\n",
    "#si_df.to_csv('check.csv')\n",
    "si_df.plot()"
   ]
  },
  {
   "cell_type": "markdown",
   "id": "97d5b4a1",
   "metadata": {},
   "source": [
    "### Read vaccination data"
   ]
  },
  {
   "cell_type": "code",
   "execution_count": 3,
   "id": "d139b677",
   "metadata": {
    "scrolled": true
   },
   "outputs": [
    {
     "name": "stdout",
     "output_type": "stream",
     "text": [
      "            Vaccinated\n",
      "Date                  \n",
      "2021-03-18         206\n",
      "2021-03-19         340\n",
      "2021-03-20         467\n",
      "2021-03-21         467\n",
      "2021-03-22         467\n"
     ]
    },
    {
     "data": {
      "text/plain": [
       "<AxesSubplot:xlabel='Date'>"
      ]
     },
     "execution_count": 3,
     "metadata": {},
     "output_type": "execute_result"
    },
    {
     "data": {
      "image/png": "[encoded data removed]",
      "text/plain": [
       "<Figure size 432x288 with 1 Axes>"
      ]
     },
     "metadata": {
      "needs_background": "light"
     },
     "output_type": "display_data"
    }
   ],
   "source": [
    "# Read data\n",
    "vdf = pd.read_csv('data/v_ts.csv')\n",
    "\n",
    "# Set datetime index\n",
    "vdf['Date'] = pd.to_datetime(vdf['Date'], format=\"%d/%m/%Y\")\n",
    "vdf = vdf.sort_values(by='Date').set_index('Date') \n",
    "\n",
    "# Aggregate to national level\n",
    "list_of_states = ['NSW','VIC','QLD','SA','WA','TAS','NT','ACT']\n",
    "vdf['Vaccinated'] = vdf.loc[:,list_of_states].sum(axis=1)\n",
    "\n",
    "# Check\n",
    "vdf = vdf[['Vaccinated']] \n",
    "\n",
    "print(vdf.head()) \n",
    "vdf['Vaccinated'].plot(grid=True)  "
   ]
  },
  {
   "cell_type": "markdown",
   "id": "99ccc68f",
   "metadata": {},
   "source": [
    "### Join datasets to get input data for model"
   ]
  },
  {
   "cell_type": "code",
   "execution_count": 4,
   "id": "df382714",
   "metadata": {},
   "outputs": [
    {
     "data": {
      "text/plain": [
       "<AxesSubplot:xlabel='Date'>"
      ]
     },
     "execution_count": 4,
     "metadata": {},
     "output_type": "execute_result"
    },
    {
     "data": {
      "image/png": "[encoded data removed]",
      "text/plain": [
       "<Figure size 432x288 with 1 Axes>"
      ]
     },
     "metadata": {
      "needs_background": "light"
     },
     "output_type": "display_data"
    }
   ],
   "source": [
    "df_siv = vdf.join(si_df)\n",
    "df_siv.plot()\n",
    "#df_siv = df_siv['2021-05-01':'2021-08-04']\n",
    "#df_siv.plot() "
   ]
  },
  {
   "cell_type": "markdown",
   "id": "66fb6d28",
   "metadata": {},
   "source": [
    "## Fit model"
   ]
  },
  {
   "cell_type": "code",
   "execution_count": 5,
   "id": "614fb889",
   "metadata": {
    "scrolled": true
   },
   "outputs": [
    {
     "name": "stdout",
     "output_type": "stream",
     "text": [
      "      fun: 585732.3555271113\n",
      " hess_inv: <4x4 LbfgsInvHessProduct with dtype=float64>\n",
      "      jac: array([-10.97796485,   0.        ,  10.98960645, -14.63340604])\n",
      "  message: 'CONVERGENCE: REL_REDUCTION_OF_F_<=_FACTR*EPSMCH'\n",
      "     nfev: 20\n",
      "      nit: 3\n",
      "     njev: 4\n",
      "   status: 0\n",
      "  success: True\n",
      "        x: array([0.1351948 , 0.29829926, 7.11365626, 3.80035682])\n"
     ]
    },
    {
     "data": {
      "text/plain": [
       "<AxesSubplot:xlabel='Date'>"
      ]
     },
     "execution_count": 5,
     "metadata": {},
     "output_type": "execute_result"
    },
    {
     "data": {
      "image/png": "[encoded data removed]",
      "text/plain": [
       "<Figure size 432x288 with 1 Axes>"
      ]
     },
     "metadata": {
      "needs_background": "light"
     },
     "output_type": "display_data"
    },
    {
     "data": {
      "image/png": "[encoded data removed]",
      "text/plain": [
       "<Figure size 432x288 with 1 Axes>"
      ]
     },
     "metadata": {
      "needs_background": "light"
     },
     "output_type": "display_data"
    }
   ],
   "source": [
    "auspop = 25954112\n",
    "\n",
    "vac=df_siv['Vaccinated'].values\n",
    "#active = df_siv['Confirmed'].values - df_siv['Recovered'].values\n",
    "active = df_siv['Confirmed'] - df_siv['Confirmed'].shift(periods=22)\n",
    "sus = auspop-active \n",
    "\n",
    "active = active[22:]\n",
    "sus = sus[22:]\n",
    "vac = vac[22:]\n",
    "\n",
    "def get_vac(t):\n",
    "    val = floor(t)\n",
    "    last = len(vac)-1\n",
    "    return vac[min(val, last)]\n",
    "\n",
    "def simodel(y, t, p): \n",
    "    bu, bv, gu, gv = p \n",
    "    s, i = y \n",
    "    vt = get_vac(t) \n",
    "    flow = ((auspop-vt)/(auspop))*(-bu*s*i/auspop +gu*i) + (vt/(auspop))*(-bv*s*i/auspop +gv*i)  \n",
    "    return [flow, -flow]\n",
    "\n",
    "def fit_simodel(p, ynought, tvec):\n",
    "    m_with_params = lambda y, t: simodel(y,t,p)\n",
    "    return odeint(m_with_params, ynought, tvec)\n",
    "\n",
    "tv = [x for x in range(len(vac))] \n",
    "y0 = [sus[0], active[0]] \n",
    "\n",
    "def f_resid(p):  \n",
    "    fitted = fit_simodel(p, y0, tv)\n",
    "    return np.linalg.norm(sus-fitted[:,0]) \n",
    "\n",
    "fitted = minimize(f_resid, \n",
    "                  [1,.3,1/25,1/25], \n",
    "                  method='L-BFGS-B',\n",
    "                  bounds=((0,None), (0,None), (0,None), (0,None)))\n",
    "print(fitted)\n",
    "\n",
    "results = fit_simodel(fitted.x, y0, [x for x in range(1000000)])  \n",
    "df = pd.DataFrame(results, columns = ['Susceptible', 'Active'])  \n",
    "df[['Susceptible', 'Active']].plot()  \n",
    "\n",
    "results = fit_simodel(fitted.x, y0, tv)\n",
    "df = pd.DataFrame(results, columns = ['Susceptible', 'Active'])\n",
    "df['Date'] = df_siv.index[22:]\n",
    "df['Vaccinated'] = vac\n",
    "df['Real susceptible'] = sus\n",
    "df['Real active'] = active\n",
    "df = df.set_index('Date')\n",
    "df.plot() "
   ]
  },
  {
   "cell_type": "markdown",
   "id": "9415d730",
   "metadata": {},
   "source": [
    "### Simplified model fit"
   ]
  },
  {
   "cell_type": "code",
   "execution_count": 6,
   "id": "c3edad0f-c311-43c3-865c-ec013baf46a3",
   "metadata": {},
   "outputs": [
    {
     "name": "stdout",
     "output_type": "stream",
     "text": [
      "      fun: 311293.72548483155\n",
      " hess_inv: <2x2 LbfgsInvHessProduct with dtype=float64>\n",
      "      jac: array([ 205.25767479, 5119.32885544])\n",
      "  message: 'CONVERGENCE: REL_REDUCTION_OF_F_<=_FACTR*EPSMCH'\n",
      "     nfev: 216\n",
      "      nit: 15\n",
      "     njev: 72\n",
      "   status: 0\n",
      "  success: True\n",
      "        x: array([0.07949328, 0.06537922])\n",
      "\n",
      "Fitting model\n",
      "\n",
      "beta=0.07949328147706451, gamma=0.06537922094854555\n",
      "steady state: 4605633.838808925 cases\n",
      "\n",
      "\n",
      "Trying custom values\n",
      "\n",
      "beta=0.1, gamma=0.07142857142857142\n",
      "steady state: 7415460.567553406 cases\n",
      "\n"
     ]
    },
    {
     "data": {
      "image/png": "[encoded data removed]",
      "text/plain": [
       "<Figure size 432x288 with 1 Axes>"
      ]
     },
     "metadata": {
      "needs_background": "light"
     },
     "output_type": "display_data"
    },
    {
     "data": {
      "image/png": "[encoded data removed]",
      "text/plain": [
       "<Figure size 432x288 with 1 Axes>"
      ]
     },
     "metadata": {
      "needs_background": "light"
     },
     "output_type": "display_data"
    }
   ],
   "source": [
    "auspop = 25954112\n",
    " \n",
    "active = df_siv['Confirmed'].values - df_siv['Recovered'].values\n",
    "sus = auspop-active  \n",
    "\n",
    "def simodel(y, t, p): \n",
    "    b, g = p \n",
    "    s, i = y \n",
    "    flow = -b*s*i/auspop +g*i \n",
    "    return [flow, -flow]\n",
    "\n",
    "def fit_simodel(p, times, ynought):\n",
    "    m_with_params = lambda y, t: simodel(y,t,p)\n",
    "    return odeint(m_with_params, ynought, times)\n",
    "\n",
    "tv = [x for x in range(len(active))] \n",
    "y0 = [sus[0], active[0]]\n",
    "\n",
    "def f_resid(p):  \n",
    "    fitted = fit_simodel(p, tv, y0)\n",
    "    return np.linalg.norm(sus-fitted[:,0])\n",
    "\n",
    "fitted = minimize(f_resid, [1,1/100], method='L-BFGS-B', bounds = ((0,None), (0, None)))\n",
    "print(fitted) \n",
    "\n",
    "t_new = np.linspace(0,1000,100)\n",
    "\n",
    "def plot_model(params):\n",
    "    fitted_model = pd.DataFrame(fit_simodel(params, t_new, y0), columns = ['Susceptible','Active'])\n",
    "    fitted_model['idx'] = t_new\n",
    "    fitted_model = fitted_model.set_index('idx')\n",
    "    fitted_model.plot()\n",
    "    print(f'\\nbeta={params[0]}, gamma={params[1]}')\n",
    "    print(f'steady state: {max(fitted_model[\"Active\"])} cases\\n')\n",
    "\n",
    "print('\\nFitting model')\n",
    "plot_model(fitted.x)\n",
    "print('\\nTrying custom values')\n",
    "plot_model([.1,1/14])"
   ]
  },
  {
   "cell_type": "markdown",
   "id": "a74b7b56",
   "metadata": {},
   "source": [
    "## Discussion of Model 1\n",
    "* Data was quite bad\n",
    "    * Look at alternative data\n",
    "    * Perhaps we can use location granularity somehow\n",
    "    * Would it be easier to model a different country, or the original COVID outbreak (in 2020)?\n",
    "* Model structure may have been off\n",
    "    * Could look into reinfection rates and possibility of a SEIR model or something\n",
    "        * Would need to get data to apply\n",
    "        \n",
    "        Vaccines protect against reinfection more than being previously infected, although in general reinfection is very possible\n",
    "        \n",
    "        \n",
    "* Could look at just running simulations without having to fit to data"
   ]
  },
  {
   "cell_type": "markdown",
   "id": "87cc125e",
   "metadata": {},
   "source": [
    "# Model 2 (Alternative data, SEIR model)"
   ]
  },
  {
   "cell_type": "markdown",
   "id": "658bec36-3cbd-4735-9d2c-208897b37566",
   "metadata": {},
   "source": [
    "## Plan\n",
    "1. Load data\n",
    "1. Generate features (susceptible, exposed, infected, recovered)\n",
    "    1. Have to estimate recovered\n",
    "1. Fit model"
   ]
  },
  {
   "cell_type": "markdown",
   "id": "f72ea46e-af75-401c-858b-95ad1848a47f",
   "metadata": {},
   "source": [
    "## Load data"
   ]
  },
  {
   "cell_type": "code",
   "execution_count": 7,
   "id": "9e9987bc-bafc-40b4-96bb-97585cd8aaf8",
   "metadata": {},
   "outputs": [],
   "source": [
    "owiddf = pd.read_csv('data/owid-covid-data.csv')\n",
    "\n",
    "owiddf = owiddf[owiddf['location'] == 'Australia']\n",
    "owiddf['date'] = pd.to_datetime(owiddf['date'], format='%Y-%m-%d')\n",
    "owiddf = owiddf.set_index('date')\n",
    "\n",
    "features = owiddf[['total_cases']].rename(columns={'total_cases':'susceptible'})\n",
    "\n",
    "# susceptible = population - people that have been infected\n",
    "features.loc[:,'susceptible'] = auspop - features['susceptible']\n",
    "\n",
    "# estimate exposed as number of cases in last 5 days (mean incubation time is 5 days)\n",
    "features.loc[:,'exposed'] = owiddf['total_cases'] - \\\n",
    "    owiddf['total_cases'].shift(periods=5)\n",
    "\n",
    "# estimate recovered as cases >= 22 days old (mean recovery time is 22 days)\n",
    "features.loc[:,'recovered'] = owiddf['total_cases'].shift(periods=22)\n",
    "\n",
    "# estimate infectious as remainder of population\n",
    "features.loc[:,'infectious'] = auspop - \\\n",
    "    features[['exposed','recovered','susceptible']] \\\n",
    "    .sum(axis=1)"
   ]
  },
  {
   "cell_type": "code",
   "execution_count": 8,
   "id": "21acdae1-62fb-44eb-93b7-84d68fbf3172",
   "metadata": {},
   "outputs": [
    {
     "data": {
      "text/plain": [
       "<seaborn.axisgrid.FacetGrid at 0x7fdd2de04be0>"
      ]
     },
     "execution_count": 8,
     "metadata": {},
     "output_type": "execute_result"
    },
    {
     "data": {
      "image/png": "[encoded data removed]",
      "text/plain": [
       "<Figure size 445.875x360 with 1 Axes>"
      ]
     },
     "metadata": {
      "needs_background": "light"
     },
     "output_type": "display_data"
    }
   ],
   "source": [
    "    #.loc['2021-12-05':,:] \\\n",
    "plotdf = features.copy() \\\n",
    "    .loc['2021-07':'2021-9-13',:] \\\n",
    "    .reset_index() \\\n",
    "    .melt(id_vars='date', value_vars=['exposed', 'recovered', 'infectious'])\n",
    "    #.melt(id_vars='date', value_vars=['susceptible','exposed', 'recovered', 'infectious'])\n",
    "\n",
    "start = '2021-07'\n",
    "end = '2021-9-13'\n",
    "\n",
    "g = sns.relplot(x='date', \n",
    "                y=\"value\", \n",
    "                hue=\"variable\", \n",
    "                kind=\"line\", \n",
    "                data=plotdf)\n",
    "g.set_xticklabels(rotation=30)\n",
    "g.set(title='Trajectories')"
   ]
  },
  {
   "cell_type": "code",
   "execution_count": 9,
   "id": "1b18ef40-3ac1-4207-85e2-cb527b568ca1",
   "metadata": {},
   "outputs": [
    {
     "name": "stdout",
     "output_type": "stream",
     "text": [
      "[25923428.0, 185.0, 274.0, 30225.0]\n"
     ]
    },
    {
     "data": {
      "text/plain": [
       "<AxesSubplot:xlabel='date'>"
      ]
     },
     "execution_count": 9,
     "metadata": {},
     "output_type": "execute_result"
    },
    {
     "data": {
      "image/png": "[encoded data removed]",
      "text/plain": [
       "<Figure size 432x288 with 1 Axes>"
      ]
     },
     "metadata": {
      "needs_background": "light"
     },
     "output_type": "display_data"
    }
   ],
   "source": [
    "# outbreak has been selected. Next step is to calculate features\n",
    "features = features.loc[start:end]\n",
    "print(features.loc['2021-07-01', ['susceptible', 'exposed', 'infectious', 'recovered']].values.flatten().tolist())\n",
    "features.plot()\n"
   ]
  },
  {
   "cell_type": "markdown",
   "id": "88d984ec-7635-4f85-a9b4-d1c56afc87c6",
   "metadata": {},
   "source": [
    "## Fitting model"
   ]
  },
  {
   "cell_type": "code",
   "execution_count": 1,
   "id": "1fb1351b-7415-4bef-9894-8658ccc8d354",
   "metadata": {},
   "outputs": [
    {
     "ename": "NameError",
     "evalue": "name 'features' is not defined",
     "output_type": "error",
     "traceback": [
      "\u001b[0;31m---------------------------------------------------------------------------\u001b[0m",
      "\u001b[0;31mNameError\u001b[0m                                 Traceback (most recent call last)",
      "\u001b[0;32m<ipython-input-1-a85ea7076df3>\u001b[0m in \u001b[0;36m<module>\u001b[0;34m\u001b[0m\n\u001b[1;32m     27\u001b[0m \u001b[0;34m\u001b[0m\u001b[0m\n\u001b[1;32m     28\u001b[0m \u001b[0;34m\u001b[0m\u001b[0m\n\u001b[0;32m---> 29\u001b[0;31m y_initial = features.loc[\n\u001b[0m\u001b[1;32m     30\u001b[0m         \u001b[0;34m'2021-07-01'\u001b[0m\u001b[0;34m,\u001b[0m\u001b[0;34m\u001b[0m\u001b[0;34m\u001b[0m\u001b[0m\n\u001b[1;32m     31\u001b[0m         \u001b[0;34m[\u001b[0m\u001b[0;34m'susceptible'\u001b[0m\u001b[0;34m,\u001b[0m \u001b[0;34m'exposed'\u001b[0m\u001b[0;34m,\u001b[0m \u001b[0;34m'infectious'\u001b[0m\u001b[0;34m,\u001b[0m \u001b[0;34m'recovered'\u001b[0m\u001b[0;34m]\u001b[0m\u001b[0;34m\u001b[0m\u001b[0;34m\u001b[0m\u001b[0m\n",
      "\u001b[0;31mNameError\u001b[0m: name 'features' is not defined"
     ]
    }
   ],
   "source": [
    "# Compute gradient as a function of t and y(t), with parameters p as an input\n",
    "def seirmodel(y, t, p):\n",
    "    s, e, i, r = y\n",
    "    #mu, beta, a, gamma = p\n",
    "    beta, a, gamma = p\n",
    "    # death rate = 6.7 per 1000 per capita\n",
    "    mu = 6.7/(1000*365)\n",
    "    dsdt = mu*auspop - mu*s - beta*i*s/auspop\n",
    "    dedt = beta*i*s/auspop - (mu+a)*e\n",
    "    didt = a*e - (gamma+mu)*i\n",
    "    drdt = gamma*i - mu*r\n",
    "    return [dsdt, dedt, didt, drdt]\n",
    "\n",
    "# Return case predictions using the above model given initial conditions and parameters\n",
    "def run_seirmodel(y_0, t_0, p):\n",
    "    model_partial = lambda y, t: seirmodel(y, t, p)\n",
    "    return odeint(model_partial, y_0, t_0)\n",
    "\n",
    "# Compute residuals given parameters\n",
    "def resid_seirmodel(y_0, t_0, s, p):\n",
    "    fitted = run_seirmodel(y_0, t_0, p)\n",
    "    #return np.linalg.norm(s - fitted[:,0])\n",
    "    # alternative cost function - give higher weighting to later observations (linearly)\n",
    "    linear_weights = np.exp(np.linspace(0,1,len(t_0)))\n",
    "    weighting = linear_weights/(np.linalg.norm(linear_weights)**0.5)\n",
    "    return np.linalg.norm((s - fitted[:, 0]) * weighting)\n",
    "\n",
    "\n",
    "y_initial = features.loc[\n",
    "        '2021-07-01', \n",
    "        ['susceptible', 'exposed', 'infectious', 'recovered']\n",
    "    ] \\\n",
    "            .values.flatten().tolist()\n",
    "\n",
    "# times for fitting (each day)\n",
    "t_initial = [x for x in range(len(features.index))]\n",
    "# times for predicting (next 2.8 years)\n",
    "t_predict = np.linspace(0, 1000, 1000)\n",
    "\n",
    "# fit estimates on a list\n",
    "base_est_list = np.mgrid[0:5:3j, 0:1/2:3j, 0:.6:2j].T.reshape(-1, 3)\n",
    "fitted = None\n",
    "for est in base_est_list:\n",
    "    print(f'testing beta={est[0]}, a={est[1]}, gamma={est[2]}')\n",
    "    fitted_new = minimize(\n",
    "        lambda p: resid_seirmodel(\n",
    "            y_initial,\n",
    "            t_initial,\n",
    "            features['susceptible'],\n",
    "            p\n",
    "        ),\n",
    "        est,\n",
    "        method ='L-BFGS-B',\n",
    "        bounds = ((0, None), (0, None), (0, None))\n",
    "    )\n",
    "    if fitted is None or fitted_new.fun < fitted.fun:\n",
    "        if fitted is None:\n",
    "            print(f'first error = {fitted_new.fun}')\n",
    "        else:\n",
    "            print(f'beat previous result of {fitted.fun} by {fitted.fun-fitted_new.fun}')\n",
    "        fitted = fitted_new\n",
    "        \n",
    "print(fitted) \n",
    "\n",
    "def fit_seirmodel(t):\n",
    "    return pd.DataFrame(\n",
    "        run_seirmodel(y_initial, t, fitted.x),\n",
    "        columns = ['susceptible', 'exposed', 'infectious', 'recovered']\n",
    "    )\n",
    "\n",
    "full_cols = ['susceptible', 'exposed', 'infectious', 'recovered']\n",
    "\n",
    "plt.figure()\n",
    "fit_seirmodel(t_predict).plot()\n",
    "plt.show()\n",
    "\n",
    "plt.figure()\n",
    "fit_seirmodel(t_predict)[full_cols[1:3]].plot() \n",
    "plt.show()\n",
    "\n",
    "new_cases_daily = fit_seirmodel(t_predict)[['exposed','infectious']].sum(axis=1).diff()\n",
    "plt.figure()\n",
    "plt.plot(t_predict, new_cases_daily)\n",
    "plt.show()\n",
    "\n",
    "plt.figure()\n",
    "fit_seirmodel(t_initial)[full_cols[1:]].plot()\n",
    "plt.show()\n",
    "\n",
    "plt.figure()\n",
    "features.loc[:, ['exposed', 'infectious', 'recovered']].plot()\n",
    "plt.show()\n",
    "\n",
    "# get day of peak\n",
    "print(\n",
    "    fit_seirmodel(t_predict) \\\n",
    "    .index[\n",
    "        np.where(\n",
    "            fit_seirmodel(t_predict)['infectious'] == \\\n",
    "            max(fit_seirmodel(t_predict)['infectious']))\n",
    "    ]\n",
    ")\n",
    "\n",
    "print(\n",
    "    new_cases_daily.index[np.where(new_cases_daily == np.nanmax(new_cases_daily))]\n",
    ")"
   ]
  },
  {
   "cell_type": "markdown",
   "id": "67220ad9-6213-45ef-927c-c01520ced926",
   "metadata": {},
   "source": [
    "# Model 3 (ARIMA + exogenous)"
   ]
  },
  {
   "cell_type": "markdown",
   "id": "58cebc45-ea50-481b-ad25-2d55db2d4b47",
   "metadata": {},
   "source": [
    "## Plan\n",
    "1. Load COVID data\n",
    "1. Join to public holidays + weekdays\n",
    "1. Select ARIMA parameters (with pub hols + weekdays as parameters)\n",
    "1. Cross validate model\n",
    "1. Train to forecast"
   ]
  },
  {
   "cell_type": "markdown",
   "id": "6ca45369-5697-418a-87d5-3b7905aed8e6",
   "metadata": {},
   "source": [
    "## Load data"
   ]
  },
  {
   "cell_type": "code",
   "execution_count": 20,
   "id": "b18d145d-7dc1-4d2e-aa5c-e17e1563443c",
   "metadata": {},
   "outputs": [
    {
     "data": {
      "text/html": [
       "<div>\n",
       "<style scoped>\n",
       "    .dataframe tbody tr th:only-of-type {\n",
       "        vertical-align: middle;\n",
       "    }\n",
       "\n",
       "    .dataframe tbody tr th {\n",
       "        vertical-align: top;\n",
       "    }\n",
       "\n",
       "    .dataframe thead th {\n",
       "        text-align: right;\n",
       "    }\n",
       "</style>\n",
       "<table border=\"1\" class=\"dataframe\">\n",
       "  <thead>\n",
       "    <tr style=\"text-align: right;\">\n",
       "      <th></th>\n",
       "      <th>iso_code</th>\n",
       "      <th>continent</th>\n",
       "      <th>location</th>\n",
       "      <th>total_cases</th>\n",
       "      <th>new_cases</th>\n",
       "      <th>new_cases_smoothed</th>\n",
       "      <th>total_deaths</th>\n",
       "      <th>new_deaths</th>\n",
       "      <th>new_deaths_smoothed</th>\n",
       "      <th>total_cases_per_million</th>\n",
       "      <th>...</th>\n",
       "      <th>male_smokers</th>\n",
       "      <th>handwashing_facilities</th>\n",
       "      <th>hospital_beds_per_thousand</th>\n",
       "      <th>life_expectancy</th>\n",
       "      <th>human_development_index</th>\n",
       "      <th>excess_mortality_cumulative_absolute</th>\n",
       "      <th>excess_mortality_cumulative</th>\n",
       "      <th>excess_mortality</th>\n",
       "      <th>excess_mortality_cumulative_per_million</th>\n",
       "      <th>weekday</th>\n",
       "    </tr>\n",
       "    <tr>\n",
       "      <th>date</th>\n",
       "      <th></th>\n",
       "      <th></th>\n",
       "      <th></th>\n",
       "      <th></th>\n",
       "      <th></th>\n",
       "      <th></th>\n",
       "      <th></th>\n",
       "      <th></th>\n",
       "      <th></th>\n",
       "      <th></th>\n",
       "      <th></th>\n",
       "      <th></th>\n",
       "      <th></th>\n",
       "      <th></th>\n",
       "      <th></th>\n",
       "      <th></th>\n",
       "      <th></th>\n",
       "      <th></th>\n",
       "      <th></th>\n",
       "      <th></th>\n",
       "      <th></th>\n",
       "    </tr>\n",
       "  </thead>\n",
       "  <tbody>\n",
       "    <tr>\n",
       "      <th>2020-01-26</th>\n",
       "      <td>AUS</td>\n",
       "      <td>Oceania</td>\n",
       "      <td>Australia</td>\n",
       "      <td>4.0</td>\n",
       "      <td>4.0</td>\n",
       "      <td>NaN</td>\n",
       "      <td>NaN</td>\n",
       "      <td>NaN</td>\n",
       "      <td>NaN</td>\n",
       "      <td>0.155</td>\n",
       "      <td>...</td>\n",
       "      <td>16.5</td>\n",
       "      <td>NaN</td>\n",
       "      <td>3.84</td>\n",
       "      <td>83.44</td>\n",
       "      <td>0.944</td>\n",
       "      <td>-532.6</td>\n",
       "      <td>-4.47</td>\n",
       "      <td>-0.48</td>\n",
       "      <td>-20.652843</td>\n",
       "      <td>6</td>\n",
       "    </tr>\n",
       "    <tr>\n",
       "      <th>2020-01-27</th>\n",
       "      <td>AUS</td>\n",
       "      <td>Oceania</td>\n",
       "      <td>Australia</td>\n",
       "      <td>5.0</td>\n",
       "      <td>1.0</td>\n",
       "      <td>NaN</td>\n",
       "      <td>NaN</td>\n",
       "      <td>NaN</td>\n",
       "      <td>NaN</td>\n",
       "      <td>0.194</td>\n",
       "      <td>...</td>\n",
       "      <td>16.5</td>\n",
       "      <td>NaN</td>\n",
       "      <td>3.84</td>\n",
       "      <td>83.44</td>\n",
       "      <td>0.944</td>\n",
       "      <td>NaN</td>\n",
       "      <td>NaN</td>\n",
       "      <td>NaN</td>\n",
       "      <td>NaN</td>\n",
       "      <td>0</td>\n",
       "    </tr>\n",
       "    <tr>\n",
       "      <th>2020-01-28</th>\n",
       "      <td>AUS</td>\n",
       "      <td>Oceania</td>\n",
       "      <td>Australia</td>\n",
       "      <td>5.0</td>\n",
       "      <td>0.0</td>\n",
       "      <td>NaN</td>\n",
       "      <td>NaN</td>\n",
       "      <td>NaN</td>\n",
       "      <td>NaN</td>\n",
       "      <td>0.194</td>\n",
       "      <td>...</td>\n",
       "      <td>16.5</td>\n",
       "      <td>NaN</td>\n",
       "      <td>3.84</td>\n",
       "      <td>83.44</td>\n",
       "      <td>0.944</td>\n",
       "      <td>NaN</td>\n",
       "      <td>NaN</td>\n",
       "      <td>NaN</td>\n",
       "      <td>NaN</td>\n",
       "      <td>1</td>\n",
       "    </tr>\n",
       "    <tr>\n",
       "      <th>2020-01-29</th>\n",
       "      <td>AUS</td>\n",
       "      <td>Oceania</td>\n",
       "      <td>Australia</td>\n",
       "      <td>6.0</td>\n",
       "      <td>1.0</td>\n",
       "      <td>NaN</td>\n",
       "      <td>NaN</td>\n",
       "      <td>NaN</td>\n",
       "      <td>NaN</td>\n",
       "      <td>0.233</td>\n",
       "      <td>...</td>\n",
       "      <td>16.5</td>\n",
       "      <td>NaN</td>\n",
       "      <td>3.84</td>\n",
       "      <td>83.44</td>\n",
       "      <td>0.944</td>\n",
       "      <td>NaN</td>\n",
       "      <td>NaN</td>\n",
       "      <td>NaN</td>\n",
       "      <td>NaN</td>\n",
       "      <td>2</td>\n",
       "    </tr>\n",
       "    <tr>\n",
       "      <th>2020-01-30</th>\n",
       "      <td>AUS</td>\n",
       "      <td>Oceania</td>\n",
       "      <td>Australia</td>\n",
       "      <td>9.0</td>\n",
       "      <td>3.0</td>\n",
       "      <td>NaN</td>\n",
       "      <td>NaN</td>\n",
       "      <td>NaN</td>\n",
       "      <td>NaN</td>\n",
       "      <td>0.349</td>\n",
       "      <td>...</td>\n",
       "      <td>16.5</td>\n",
       "      <td>NaN</td>\n",
       "      <td>3.84</td>\n",
       "      <td>83.44</td>\n",
       "      <td>0.944</td>\n",
       "      <td>NaN</td>\n",
       "      <td>NaN</td>\n",
       "      <td>NaN</td>\n",
       "      <td>NaN</td>\n",
       "      <td>3</td>\n",
       "    </tr>\n",
       "  </tbody>\n",
       "</table>\n",
       "<p>5 rows × 67 columns</p>\n",
       "</div>"
      ],
      "text/plain": [
       "           iso_code continent   location  total_cases  new_cases  \\\n",
       "date                                                               \n",
       "2020-01-26      AUS   Oceania  Australia          4.0        4.0   \n",
       "2020-01-27      AUS   Oceania  Australia          5.0        1.0   \n",
       "2020-01-28      AUS   Oceania  Australia          5.0        0.0   \n",
       "2020-01-29      AUS   Oceania  Australia          6.0        1.0   \n",
       "2020-01-30      AUS   Oceania  Australia          9.0        3.0   \n",
       "\n",
       "            new_cases_smoothed  total_deaths  new_deaths  new_deaths_smoothed  \\\n",
       "date                                                                            \n",
       "2020-01-26                 NaN           NaN         NaN                  NaN   \n",
       "2020-01-27                 NaN           NaN         NaN                  NaN   \n",
       "2020-01-28                 NaN           NaN         NaN                  NaN   \n",
       "2020-01-29                 NaN           NaN         NaN                  NaN   \n",
       "2020-01-30                 NaN           NaN         NaN                  NaN   \n",
       "\n",
       "            total_cases_per_million  ...  male_smokers  \\\n",
       "date                                 ...                 \n",
       "2020-01-26                    0.155  ...          16.5   \n",
       "2020-01-27                    0.194  ...          16.5   \n",
       "2020-01-28                    0.194  ...          16.5   \n",
       "2020-01-29                    0.233  ...          16.5   \n",
       "2020-01-30                    0.349  ...          16.5   \n",
       "\n",
       "            handwashing_facilities  hospital_beds_per_thousand  \\\n",
       "date                                                             \n",
       "2020-01-26                     NaN                        3.84   \n",
       "2020-01-27                     NaN                        3.84   \n",
       "2020-01-28                     NaN                        3.84   \n",
       "2020-01-29                     NaN                        3.84   \n",
       "2020-01-30                     NaN                        3.84   \n",
       "\n",
       "            life_expectancy  human_development_index  \\\n",
       "date                                                   \n",
       "2020-01-26            83.44                    0.944   \n",
       "2020-01-27            83.44                    0.944   \n",
       "2020-01-28            83.44                    0.944   \n",
       "2020-01-29            83.44                    0.944   \n",
       "2020-01-30            83.44                    0.944   \n",
       "\n",
       "            excess_mortality_cumulative_absolute  excess_mortality_cumulative  \\\n",
       "date                                                                            \n",
       "2020-01-26                                -532.6                        -4.47   \n",
       "2020-01-27                                   NaN                          NaN   \n",
       "2020-01-28                                   NaN                          NaN   \n",
       "2020-01-29                                   NaN                          NaN   \n",
       "2020-01-30                                   NaN                          NaN   \n",
       "\n",
       "            excess_mortality  excess_mortality_cumulative_per_million  weekday  \n",
       "date                                                                            \n",
       "2020-01-26             -0.48                               -20.652843        6  \n",
       "2020-01-27               NaN                                      NaN        0  \n",
       "2020-01-28               NaN                                      NaN        1  \n",
       "2020-01-29               NaN                                      NaN        2  \n",
       "2020-01-30               NaN                                      NaN        3  \n",
       "\n",
       "[5 rows x 67 columns]"
      ]
     },
     "execution_count": 20,
     "metadata": {},
     "output_type": "execute_result"
    }
   ],
   "source": [
    "owiddf = pd.read_csv('data/owid-covid-data.csv')\n",
    "owiddf = owiddf[owiddf['location'] == 'Australia']\n",
    "owiddf['date'] = pd.to_datetime(owiddf['date'], format='%Y-%m-%d')\n",
    "owiddf = owiddf.set_index('date')\n",
    "owiddf['weekday'] = owiddf.index.weekday\n",
    "owiddf.head()"
   ]
  }
 ],
 "metadata": {
  "kernelspec": {
   "display_name": "Python 3",
   "language": "python",
   "name": "python3"
  },
  "language_info": {
   "codemirror_mode": {
    "name": "ipython",
    "version": 3
   },
   "file_extension": ".py",
   "mimetype": "text/x-python",
   "name": "python",
   "nbconvert_exporter": "python",
   "pygments_lexer": "ipython3",
   "version": "3.10.1"
  },
  "toc-autonumbering": true,
  "toc-showcode": false,
  "toc-showmarkdowntxt": false
 },
 "nbformat": 4,
 "nbformat_minor": 5
}
